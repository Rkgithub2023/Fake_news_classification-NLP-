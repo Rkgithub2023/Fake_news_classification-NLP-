{
  "nbformat": 4,
  "nbformat_minor": 0,
  "metadata": {
    "colab": {
      "provenance": []
    },
    "kernelspec": {
      "name": "python3",
      "display_name": "Python 3"
    },
    "language_info": {
      "name": "python"
    }
  },
  "cells": [
    {
      "cell_type": "markdown",
      "source": [
        "**This is Fake news generator where we use LSTM  ✈**"
      ],
      "metadata": {
        "id": "x8mvE1_r3A0k"
      }
    },
    {
      "cell_type": "code",
      "source": [
        "#importing basic packages\n",
        "import pandas as pd\n",
        "import numpy as np\n",
        "import seaborn as sns\n",
        "import matplotlib.pyplot as plt\n",
        "%matplotlib inline"
      ],
      "metadata": {
        "id": "uoNn9ho33Kib"
      },
      "execution_count": 63,
      "outputs": []
    },
    {
      "cell_type": "code",
      "source": [
        "df=pd.read_csv('train.csv',on_bad_lines='skip',engine='python') #the file contains some unnecessary data"
      ],
      "metadata": {
        "id": "6S3kAoaA3jBH"
      },
      "execution_count": 64,
      "outputs": []
    },
    {
      "cell_type": "code",
      "source": [
        "df.head()"
      ],
      "metadata": {
        "colab": {
          "base_uri": "https://localhost:8080/",
          "height": 206
        },
        "id": "o_c48CN-48Hp",
        "outputId": "1ac1e003-e43c-4772-efd1-20303c1f8076"
      },
      "execution_count": 65,
      "outputs": [
        {
          "output_type": "execute_result",
          "data": {
            "text/plain": [
              "  id                                              title              author  \\\n",
              "0  0  House Dem Aide: We Didn’t Even See Comey’s Let...       Darrell Lucus   \n",
              "1  1  FLYNN: Hillary Clinton, Big Woman on Campus - ...     Daniel J. Flynn   \n",
              "2  2                  Why the Truth Might Get You Fired  Consortiumnews.com   \n",
              "3  3  15 Civilians Killed In Single US Airstrike Hav...     Jessica Purkiss   \n",
              "4  4  Iranian woman jailed for fictional unpublished...      Howard Portnoy   \n",
              "\n",
              "                                                text label  \n",
              "0  House Dem Aide: We Didn’t Even See Comey’s Let...     1  \n",
              "1  Ever get the feeling your life circles the rou...     0  \n",
              "2  Why the Truth Might Get You Fired October 29, ...     1  \n",
              "3  Videos 15 Civilians Killed In Single US Airstr...     1  \n",
              "4  Print \\nAn Iranian woman has been sentenced to...     1  "
            ],
            "text/html": [
              "\n",
              "  <div id=\"df-a975db9b-7192-4ec3-894c-233792ae91f2\" class=\"colab-df-container\">\n",
              "    <div>\n",
              "<style scoped>\n",
              "    .dataframe tbody tr th:only-of-type {\n",
              "        vertical-align: middle;\n",
              "    }\n",
              "\n",
              "    .dataframe tbody tr th {\n",
              "        vertical-align: top;\n",
              "    }\n",
              "\n",
              "    .dataframe thead th {\n",
              "        text-align: right;\n",
              "    }\n",
              "</style>\n",
              "<table border=\"1\" class=\"dataframe\">\n",
              "  <thead>\n",
              "    <tr style=\"text-align: right;\">\n",
              "      <th></th>\n",
              "      <th>id</th>\n",
              "      <th>title</th>\n",
              "      <th>author</th>\n",
              "      <th>text</th>\n",
              "      <th>label</th>\n",
              "    </tr>\n",
              "  </thead>\n",
              "  <tbody>\n",
              "    <tr>\n",
              "      <th>0</th>\n",
              "      <td>0</td>\n",
              "      <td>House Dem Aide: We Didn’t Even See Comey’s Let...</td>\n",
              "      <td>Darrell Lucus</td>\n",
              "      <td>House Dem Aide: We Didn’t Even See Comey’s Let...</td>\n",
              "      <td>1</td>\n",
              "    </tr>\n",
              "    <tr>\n",
              "      <th>1</th>\n",
              "      <td>1</td>\n",
              "      <td>FLYNN: Hillary Clinton, Big Woman on Campus - ...</td>\n",
              "      <td>Daniel J. Flynn</td>\n",
              "      <td>Ever get the feeling your life circles the rou...</td>\n",
              "      <td>0</td>\n",
              "    </tr>\n",
              "    <tr>\n",
              "      <th>2</th>\n",
              "      <td>2</td>\n",
              "      <td>Why the Truth Might Get You Fired</td>\n",
              "      <td>Consortiumnews.com</td>\n",
              "      <td>Why the Truth Might Get You Fired October 29, ...</td>\n",
              "      <td>1</td>\n",
              "    </tr>\n",
              "    <tr>\n",
              "      <th>3</th>\n",
              "      <td>3</td>\n",
              "      <td>15 Civilians Killed In Single US Airstrike Hav...</td>\n",
              "      <td>Jessica Purkiss</td>\n",
              "      <td>Videos 15 Civilians Killed In Single US Airstr...</td>\n",
              "      <td>1</td>\n",
              "    </tr>\n",
              "    <tr>\n",
              "      <th>4</th>\n",
              "      <td>4</td>\n",
              "      <td>Iranian woman jailed for fictional unpublished...</td>\n",
              "      <td>Howard Portnoy</td>\n",
              "      <td>Print \\nAn Iranian woman has been sentenced to...</td>\n",
              "      <td>1</td>\n",
              "    </tr>\n",
              "  </tbody>\n",
              "</table>\n",
              "</div>\n",
              "    <div class=\"colab-df-buttons\">\n",
              "\n",
              "  <div class=\"colab-df-container\">\n",
              "    <button class=\"colab-df-convert\" onclick=\"convertToInteractive('df-a975db9b-7192-4ec3-894c-233792ae91f2')\"\n",
              "            title=\"Convert this dataframe to an interactive table.\"\n",
              "            style=\"display:none;\">\n",
              "\n",
              "  <svg xmlns=\"http://www.w3.org/2000/svg\" height=\"24px\" viewBox=\"0 -960 960 960\">\n",
              "    <path d=\"M120-120v-720h720v720H120Zm60-500h600v-160H180v160Zm220 220h160v-160H400v160Zm0 220h160v-160H400v160ZM180-400h160v-160H180v160Zm440 0h160v-160H620v160ZM180-180h160v-160H180v160Zm440 0h160v-160H620v160Z\"/>\n",
              "  </svg>\n",
              "    </button>\n",
              "\n",
              "  <style>\n",
              "    .colab-df-container {\n",
              "      display:flex;\n",
              "      gap: 12px;\n",
              "    }\n",
              "\n",
              "    .colab-df-convert {\n",
              "      background-color: #E8F0FE;\n",
              "      border: none;\n",
              "      border-radius: 50%;\n",
              "      cursor: pointer;\n",
              "      display: none;\n",
              "      fill: #1967D2;\n",
              "      height: 32px;\n",
              "      padding: 0 0 0 0;\n",
              "      width: 32px;\n",
              "    }\n",
              "\n",
              "    .colab-df-convert:hover {\n",
              "      background-color: #E2EBFA;\n",
              "      box-shadow: 0px 1px 2px rgba(60, 64, 67, 0.3), 0px 1px 3px 1px rgba(60, 64, 67, 0.15);\n",
              "      fill: #174EA6;\n",
              "    }\n",
              "\n",
              "    .colab-df-buttons div {\n",
              "      margin-bottom: 4px;\n",
              "    }\n",
              "\n",
              "    [theme=dark] .colab-df-convert {\n",
              "      background-color: #3B4455;\n",
              "      fill: #D2E3FC;\n",
              "    }\n",
              "\n",
              "    [theme=dark] .colab-df-convert:hover {\n",
              "      background-color: #434B5C;\n",
              "      box-shadow: 0px 1px 3px 1px rgba(0, 0, 0, 0.15);\n",
              "      filter: drop-shadow(0px 1px 2px rgba(0, 0, 0, 0.3));\n",
              "      fill: #FFFFFF;\n",
              "    }\n",
              "  </style>\n",
              "\n",
              "    <script>\n",
              "      const buttonEl =\n",
              "        document.querySelector('#df-a975db9b-7192-4ec3-894c-233792ae91f2 button.colab-df-convert');\n",
              "      buttonEl.style.display =\n",
              "        google.colab.kernel.accessAllowed ? 'block' : 'none';\n",
              "\n",
              "      async function convertToInteractive(key) {\n",
              "        const element = document.querySelector('#df-a975db9b-7192-4ec3-894c-233792ae91f2');\n",
              "        const dataTable =\n",
              "          await google.colab.kernel.invokeFunction('convertToInteractive',\n",
              "                                                    [key], {});\n",
              "        if (!dataTable) return;\n",
              "\n",
              "        const docLinkHtml = 'Like what you see? Visit the ' +\n",
              "          '<a target=\"_blank\" href=https://colab.research.google.com/notebooks/data_table.ipynb>data table notebook</a>'\n",
              "          + ' to learn more about interactive tables.';\n",
              "        element.innerHTML = '';\n",
              "        dataTable['output_type'] = 'display_data';\n",
              "        await google.colab.output.renderOutput(dataTable, element);\n",
              "        const docLink = document.createElement('div');\n",
              "        docLink.innerHTML = docLinkHtml;\n",
              "        element.appendChild(docLink);\n",
              "      }\n",
              "    </script>\n",
              "  </div>\n",
              "\n",
              "\n",
              "<div id=\"df-ba353a6e-6d3f-479e-820e-ebe8562c6eaa\">\n",
              "  <button class=\"colab-df-quickchart\" onclick=\"quickchart('df-ba353a6e-6d3f-479e-820e-ebe8562c6eaa')\"\n",
              "            title=\"Suggest charts\"\n",
              "            style=\"display:none;\">\n",
              "\n",
              "<svg xmlns=\"http://www.w3.org/2000/svg\" height=\"24px\"viewBox=\"0 0 24 24\"\n",
              "     width=\"24px\">\n",
              "    <g>\n",
              "        <path d=\"M19 3H5c-1.1 0-2 .9-2 2v14c0 1.1.9 2 2 2h14c1.1 0 2-.9 2-2V5c0-1.1-.9-2-2-2zM9 17H7v-7h2v7zm4 0h-2V7h2v10zm4 0h-2v-4h2v4z\"/>\n",
              "    </g>\n",
              "</svg>\n",
              "  </button>\n",
              "\n",
              "<style>\n",
              "  .colab-df-quickchart {\n",
              "      --bg-color: #E8F0FE;\n",
              "      --fill-color: #1967D2;\n",
              "      --hover-bg-color: #E2EBFA;\n",
              "      --hover-fill-color: #174EA6;\n",
              "      --disabled-fill-color: #AAA;\n",
              "      --disabled-bg-color: #DDD;\n",
              "  }\n",
              "\n",
              "  [theme=dark] .colab-df-quickchart {\n",
              "      --bg-color: #3B4455;\n",
              "      --fill-color: #D2E3FC;\n",
              "      --hover-bg-color: #434B5C;\n",
              "      --hover-fill-color: #FFFFFF;\n",
              "      --disabled-bg-color: #3B4455;\n",
              "      --disabled-fill-color: #666;\n",
              "  }\n",
              "\n",
              "  .colab-df-quickchart {\n",
              "    background-color: var(--bg-color);\n",
              "    border: none;\n",
              "    border-radius: 50%;\n",
              "    cursor: pointer;\n",
              "    display: none;\n",
              "    fill: var(--fill-color);\n",
              "    height: 32px;\n",
              "    padding: 0;\n",
              "    width: 32px;\n",
              "  }\n",
              "\n",
              "  .colab-df-quickchart:hover {\n",
              "    background-color: var(--hover-bg-color);\n",
              "    box-shadow: 0 1px 2px rgba(60, 64, 67, 0.3), 0 1px 3px 1px rgba(60, 64, 67, 0.15);\n",
              "    fill: var(--button-hover-fill-color);\n",
              "  }\n",
              "\n",
              "  .colab-df-quickchart-complete:disabled,\n",
              "  .colab-df-quickchart-complete:disabled:hover {\n",
              "    background-color: var(--disabled-bg-color);\n",
              "    fill: var(--disabled-fill-color);\n",
              "    box-shadow: none;\n",
              "  }\n",
              "\n",
              "  .colab-df-spinner {\n",
              "    border: 2px solid var(--fill-color);\n",
              "    border-color: transparent;\n",
              "    border-bottom-color: var(--fill-color);\n",
              "    animation:\n",
              "      spin 1s steps(1) infinite;\n",
              "  }\n",
              "\n",
              "  @keyframes spin {\n",
              "    0% {\n",
              "      border-color: transparent;\n",
              "      border-bottom-color: var(--fill-color);\n",
              "      border-left-color: var(--fill-color);\n",
              "    }\n",
              "    20% {\n",
              "      border-color: transparent;\n",
              "      border-left-color: var(--fill-color);\n",
              "      border-top-color: var(--fill-color);\n",
              "    }\n",
              "    30% {\n",
              "      border-color: transparent;\n",
              "      border-left-color: var(--fill-color);\n",
              "      border-top-color: var(--fill-color);\n",
              "      border-right-color: var(--fill-color);\n",
              "    }\n",
              "    40% {\n",
              "      border-color: transparent;\n",
              "      border-right-color: var(--fill-color);\n",
              "      border-top-color: var(--fill-color);\n",
              "    }\n",
              "    60% {\n",
              "      border-color: transparent;\n",
              "      border-right-color: var(--fill-color);\n",
              "    }\n",
              "    80% {\n",
              "      border-color: transparent;\n",
              "      border-right-color: var(--fill-color);\n",
              "      border-bottom-color: var(--fill-color);\n",
              "    }\n",
              "    90% {\n",
              "      border-color: transparent;\n",
              "      border-bottom-color: var(--fill-color);\n",
              "    }\n",
              "  }\n",
              "</style>\n",
              "\n",
              "  <script>\n",
              "    async function quickchart(key) {\n",
              "      const quickchartButtonEl =\n",
              "        document.querySelector('#' + key + ' button');\n",
              "      quickchartButtonEl.disabled = true;  // To prevent multiple clicks.\n",
              "      quickchartButtonEl.classList.add('colab-df-spinner');\n",
              "      try {\n",
              "        const charts = await google.colab.kernel.invokeFunction(\n",
              "            'suggestCharts', [key], {});\n",
              "      } catch (error) {\n",
              "        console.error('Error during call to suggestCharts:', error);\n",
              "      }\n",
              "      quickchartButtonEl.classList.remove('colab-df-spinner');\n",
              "      quickchartButtonEl.classList.add('colab-df-quickchart-complete');\n",
              "    }\n",
              "    (() => {\n",
              "      let quickchartButtonEl =\n",
              "        document.querySelector('#df-ba353a6e-6d3f-479e-820e-ebe8562c6eaa button');\n",
              "      quickchartButtonEl.style.display =\n",
              "        google.colab.kernel.accessAllowed ? 'block' : 'none';\n",
              "    })();\n",
              "  </script>\n",
              "</div>\n",
              "\n",
              "    </div>\n",
              "  </div>\n"
            ],
            "application/vnd.google.colaboratory.intrinsic+json": {
              "type": "dataframe",
              "variable_name": "df",
              "summary": "{\n  \"name\": \"df\",\n  \"rows\": 20822,\n  \"fields\": [\n    {\n      \"column\": \"id\",\n      \"properties\": {\n        \"dtype\": \"string\",\n        \"num_unique_values\": 20822,\n        \"samples\": [\n          \"2501\",\n          \"15557\",\n          \"15541\"\n        ],\n        \"semantic_type\": \"\",\n        \"description\": \"\"\n      }\n    },\n    {\n      \"column\": \"title\",\n      \"properties\": {\n        \"dtype\": \"string\",\n        \"num_unique_values\": 19817,\n        \"samples\": [\n          \"Donald Trump Embraces Wider Use of Stop-and-Frisk by Police - The New York Times\",\n          \"ICE Arrests 160 in Sweeping California Enforcement, Possibly More Across 6 States - Breitbart\",\n          \"Patients Most Dangerous In Winter When They\\u2019re Dying Off, Warn HSE\"\n        ],\n        \"semantic_type\": \"\",\n        \"description\": \"\"\n      }\n    },\n    {\n      \"column\": \"author\",\n      \"properties\": {\n        \"dtype\": \"category\",\n        \"num_unique_values\": 4205,\n        \"samples\": [\n          \"stevor\",\n          \"Seth Kugel\",\n          \"Sylvie Bigar\"\n        ],\n        \"semantic_type\": \"\",\n        \"description\": \"\"\n      }\n    },\n    {\n      \"column\": \"text\",\n      \"properties\": {\n        \"dtype\": \"string\",\n        \"num_unique_values\": 20388,\n        \"samples\": [\n          \"The great debate over what \\u201cnationalism\\u201d means will surely be filled by the closing passage of President Donald Trump\\u2019s inaugural speech:[A new national pride will stir ourselves, lift our sights and heal our divisions. It\\u2019s time to remember that old wisdom our soldiers will never forget, that whether we are black or brown or white, we all bleed the same red blood of patriots. We all enjoy the same glorious freedoms and we all salute the same great American flag. And whether a child is born in the urban sprawl of Detroit or the windswept plains of Nebraska, they look up at the same night sky, they fill their heart with the same dreams and they are infused with the breath of life by the same almighty creator. So to all Americans in every city near and far, small and large, from mountain to mountain, from ocean to ocean, hear these words: You will never be ignored again. Your voice, your hopes and your dreams will define our American destiny. And your courage and goodness and love will forever guide us along the way. Together we will make America strong again, we will make America wealthy again, we will make America proud again, we will make America safe again. And, yes, together we will make America great again. Trump\\u2019s inaugural address, reportedly written by chief strategist Stephen K. Bannon and senior advisor Stephen Miller, was criticized as aggressive, but it was largely an effort to explain what he meant by \\u201cMake America Great Again,\\u201d which is (thankfully!) a very aggressive idea. For an example of a passive campaign theme, try \\u201cHope and Change. \\u201d There is nothing more passive than lying around and hoping some Santa Claus politician comes along with a bag of other people\\u2019s money to fix your life.  Trump was also criticized for delivering an inaugural address that sounded too much like his campaign speeches. This was necessary, because the mainstream media didn\\u2019t relay enough of what he said on the stump. They were too busy freaking out over whatever \\u201coutrageous\\u201d thing he said at any given rally.  It was appropriate for Trump to succinctly explain his platform to the widest audience he\\u2019ll ever have, both within and beyond America\\u2019s borders, with no media filter. Until now, most of the media commentary on \\u201cMake America Great Again\\u201d consisted of whining about how unfair it was to the inexplicably   Barack Obama, mixed with the occasional lefty primal scream about how America was never great to begin with. Perhaps most importantly, Trump used his inaugural to beat down the asinine smear of \\u201cwhite nationalism. \\u201d His talk of national pride has been corrupted to mean unthinking national chauvinism by the Left. \\u201cAmerica first\\u201d is twisted to mean \\u201cscrew everybody but America\\u201d (or, in the hands of the more mendacious critics, \\u201cscrew the Jews. \\u201d) Then it gets twisted even further by welding the unspoken word \\u201cwhite\\u201d onto \\u201cnationalism,\\u201d transforming it into a racist call to arms. The number of actual white nationalists who talk about white nationalism is vastly smaller than the number of liberals who insist that\\u2019s what they hear when Trump talks about \\u201cAmerican pride. \\u201d Maybe it\\u2019s time for liberals to check in with their therapists and have a long talk about why they hear so many racist dog whistles. In his inaugural, Trump could not have been more clear about the inclusiveness of his vision for American pride. \\u201cWhether we are black or brown or white, we all bleed the same red blood of patriots\\u201d is about as clear as it gets.  Of course, the usual   media swamis will declare they\\u2019ve looked inside Trump\\u2019s mind, and he didn\\u2019t really mean that. He just threw those words in because Kellyanne told him he needed a little racism insurance. But everything about that speech, and everything Trump has said about resurgent American pride, and everything said by the people who want to reclaim nationalism from chauvinism, is inclusive. The point is to insist on both national priorities and national responsibilities, for everyone from   citizens at the immigration office to President Trump and his Cabinet.  The woman from Mexico who took her oath of citizenship yesterday is 100% American. The man from Mexico who slipped across the border in a coyote truck yesterday is not. President Trump has a long list of sacred duties to the woman, but not to the man. This is not a complicated idea, or a racist one, or really even a nationalist one. It\\u2019s Civics 101. It\\u2019s also the idea global socialism must strangle, in order to survive. Liberals who rail against \\u201cnationalism\\u201d are primarily interested in creating a world of zero accountability for their maximum leaders. With borders erased, the Ruling Class can hack the electorate to suit its political needs, and their business partners can slash the cost of labor. \\u201cInternationalist\\u201d leaders are accountable to no nation\\u2019s citizens. Trump\\u2019s inaugural address included a bold statement of the opposite principle. America\\u2019s president has neither control, nor responsibility, over the economies of other nations. He is responsible to Americans, from Nebraska to Detroit, as Trump put it. He set a very high bar for himself to clear by pointedly mentioning Detroit.  He also made a promise that no group will be preyed upon for the advantages of another. To be the president of all Americans means he is the sugar daddy of none. No more will the power of government be used to penalize groups the Left hates, and beat them into line with new social orthodoxies. No more will Washington dream up economic plans that benefit some, or even most, while designating certain \\u201cforgotten people\\u201d as lifetime losers who need to shut up and accept their fate.  Trump referred to \\u201cwealth\\u201d several times in his speech. \\u201cWealth\\u201d means more than just money. Wealth benefits all, no matter how loudly socialists may screech about too much of it accruing to the One Percent. Some people got very rich by designing, building, and selling the device you\\u2019re staring at right now. You are wealthier than your grandparents, because you have it. As for a proud America\\u2019s proper relationship with other nations, Trump said: We will seek friendship and goodwill with the nations of the world, but we do so with the understanding that it is the right of all nations to put their own interests first. We do not seek to impose our way of life on anyone, but rather to let it shine as an example. We will shine for everyone to follow. That\\u2019s not chauvinism, or imperialism. That\\u2019s the understanding America was founded upon. When Thomas Jefferson took his turn at the presidential bat, he called for \\u201cpeace, commerce, and honest friendship with all nations, entangling alliances with none. \\u201d No one interpreted that to mean \\u201cto Hell with the rest of the world. \\u201d Also, not to put too fine a point on it, but just about every other nation on Earth understands the concept of putting its own interests first, and believes it has a moral obligation to do so. The leaders of some other nations are very good at murmuring sweet globalist nothings into the ears of   elites, but what they actually do is ruthlessly pursue their own national interests. The charade is made much easier for them by the universal understanding that America is supposed to be the one country that never gets to look out for itself, that has no moral right to protect its own interests. Those are all much easier promises to make than keep, to be sure, but Trump did make them. It is wise to be skeptical, and hold his feet to the very large fire he built with that inaugural address.\",\n          \"By Brig Asif H. Raja on November 1, 2016 \\nAsif Haroon Raja \\nThe ISI had developed its long arm capability during the tenures of Gen Akhtar Abdur Rehman, Lt Gen Hamid Gul (VT editor) and Lt Gen Javed Nasir as DG ISI. It was owing to this capability of hitting the chosen target outside the frontiers of Pakistan that the ISI earned the reputation of a dreaded outfit and the best in Asia. The long arm began to shrivel when Benazir Bhutto was PM from 1988 to 1990 and Gen Waheed Kakar was COAS and Lt Gen Javed Ashraf Qazi had replaced Gen Javed Nasir. This change in posture was a result of pressure of the US and the West, pressing Pakistan to refrain from meddling in Indian Occupied Kashmir (IOK) and in India, or else it will be declared a terrorist state. Pressure was mounted at the behest of India which had become strategic partner of USA and Israel in 1991/1992 and darling of the West. \\nAfter the occupation of Afghanistan by 1, 50,000 Soviet forces in December 1979, Pakistan under Gen Ziaul Haq had decided to provide refuge to about 5 million Afghan refugees and to support the Afghan Mujahideen in their resistance. The US came forward with a package of $ 3.5 billion in June 1981 after making a measured assessment that Pakistan had the will and capability to fight the proxy war. The offer was accepted only when it was conveyed that the ISI will coordinate and conduct the entire war without the aid of CIA and that the US and others would restrict their support to provision of funds and weapons/equipment only. As a Frontline State, Pakistan suffered a great deal throughout the Afghan war at the hands of KGB-KHAD-RAW-AlZulfiqar nexus and Afghan armed forces, but achieved the miracle by defeating and pushing out Soviet forces in February 1989. After achieving its objective without employing a single soldier, the US abandoned Pakistan as well as the Mujahideen who had sacrificed 1.5 million people and had helped the US in becoming a sole super power. \\nOnce Pakistan fell from the grace of USA and it was put under sanctions on account of its covert nuclear program suspected to be geared towards making an Islamic bomb, it came under the shadow of black star. Pakistan\\u2019s nuclear program became an eyesore for India, Israel and USA. It faced the whole brunt of fallout effects of ten-year Afghan war that had been fully supported by the US led free world. USSR that had shrunk to Russian Federation was highly bitter, while India was perpetually hostile. Iran was not so friendly owing to its reservations over the developments in Afghanistan. Explosive situation in Afghanistan due to civil war and power tussle among the seven Mujahideen groups impacted the security of Pakistan. \\nStart of armed insurgency in IOK in late 1989 and India pumping in over 700,000 troops into the Valley had its effects on Pakistan\\u2019s security dynamics. In 1990/91, both sides had come close to war. Internally, the society had become militarized due to the Afghan war and sectarianism fomented by Iran and Saudi Arabia had created serious law and order situation in Punjab. PPP and PML-N acrimoniously tussled with each other for power because of which no govt could complete its mandatory 5 years tenure. \\nFragmentation of USSR and demise of communism on account of its military defeat in Afghanistan and increase of influence of Pakistan and India decreasing its influence in Afghanistan had vexed India. It feared that Pakistan may exploit the situation in IOK and liberate it with the help of over 60 Jihadi groups and take its revenge of the humiliation it had suffered in East Pakistan in 1971. It dreaded that Pakistan may replicate its model of supporting the Mukti Bahini. Sensing the gravity of the situation, India started propagating that Pakistan is behind the insurgency in IOK and that the ISI is funding, training and launching terrorists from Azad Jammu & Kashmir (AJK). It urged the UN and world powers to rein in Pakistan and restrain ISI from conducting cross LoC terrorism. \\nThe US, both Republicans and Democrats, had been constantly wooing India to join its camp since early 1950s, but India preferred the Soviet camp, although it professed to be non-aligned. It was elated when India feeling orphaned after the collapse of USSR fell like a ripe apple into the waiting arms of USA and both became bedfellows in 1991. Once its newfound love sought help from her paramour, the latter stood behind her and sternly cautioned Pakistan to lay its hands off IOK. Change in circumstances compelled Pakistan to restrict its support to the Kashmiris in distress to moral, political and diplomatic levels only. The Kashmir oriented Jihadi groups based in AJK and in Southern Punjab however continued to extend support to the Kashmiris seeking right of self-determination as provided for in the UN resolutions. Indian security forces equipped with draconian laws and license to kill without any fear of accountability or censure by the UN and world powers carried out inhuman torture, employed massive force, and used rape as a weapon to break the will of the freedom fighters. The UN and international community turned a deaf ear to the cries of Kashmiris. \\nDespite the fact that IOK had become the most militarized region of the world (one soldier for 17 civilians), and Kashmiris had suffered over 100,000 fatalities, 10,000 rapes, detention of thousands in secret dens and destruction of their property, the freedom fighters kept the torch of liberty aglow. The heroics of Kashmiris against heavy odds had a telling effect on the morale of Indian Army and paramilitary forces in IOK. Soldiers suffered from demoralization and homesickness; cases of suicides, desertions, killing of seniors and comrades by soldiers, and indiscipline jumped up at an alarming rate. Officers and men dreaded posting to Kashmir, while rate of compassionate cases wanting posting out from Kashmir shot up. A stage came when recruitment in Army dropped to rock bottom levels. The then Indian Army chief had to appear on the TV and run an ad campaign to appeal to the youth to join the Army on better pay scale and perks. Kashmir had become a perforated wound for India and economic cost was becoming unbearable. It was becoming difficult for India to hide its massive human rights violations and barbarities of Indian security forces. \\nHere I may add that the Indian Army had suffered humiliation at Dras-Kargil in 1999 at the hands of handful of Mujahideen and irregulars of Northern Light Infantry. It was eventually bailed out by the US led G-8 by exerting immense pressure on Pakistan to immediately vacate the captured territories. The Indian armed forces went through another embarrassment in 2002 when it had to sheepishly withdraw from its western border after a ten-month standoff during which it had constantly huffed and puffed but couldn\\u2019t pick up courage to cross the border. Aggressive response of Pak armed forces had taken the steam out of their chauvinism. \\nUnfortunately, all that was gained on the Kashmir front and on the military front was wasted away after Gen Musharraf wilted under the US pressure in 2003 and decided to take steps to please USA and India. Reining in Kashmir focused Jihadi groups, allowing India to fence the LoC and signing peace treaty with India in January 2004 changed the perspective. It helped Indian military to suppress Kashmir freedom movement. Earlier on, Musharraf had submitted to all the 7 demands of Washington in September 2001. Free hand given to CIA and FBI had enabled the two to establish their network in FATA and gain control over airports and seaport in Pakistan. Intelligence acquisition in FATA was taken over by CIA and ISI pushed on the back seat. \\nIndo-Pak peace treaty in 2004 enabled RAW to ignite FATA, Khyber Pakhtunkhwa (KP), Baluchistan and Karachi. While RAW assisted by CIA, NDS, MI-6 and Mossad made full use of its long arm to bleed Pakistan with the help of proxies, Pak security forces and ISI remained handicapped. The so-called friends pushed Pakistan to fight terrorism but secretly backed the terrorists. The US kept twisting the arm of Pakistan that if ISI meddled into India or Afghanistan it will be declared a rogue outfit. Perforce, the ISI undertook protective measures only, but its defensive actions were more often breached because the so-called allies stabbed Pakistan in the back. As a consequence, RAW and its strategic partners carried out one-sided covert war while the ISI at best tried to ward off the attacks. In spite of defensive policy of the govt and ISI, and Pakistan suffering much more human casualties than any other country in the war on terror, ISI was blamed to be in collusion with Al-Qaeda, Taliban, Haqqani Network, Jaish-e-Muhammad (JeM) and Lashkar-e-Taiba (LeT). These were termed as strategic assets of military establishment to overcome conventional inferiority against arch enemy India. The lost intelligence space In FATA/KP was gradually recovered when Lt Gen Shuja Pasha took over as DG ISI and Gen Ashfaq Kayani as COAS in 2008. \\nAll the terror attacks that took place in India between 2001 and 2008 were pinned on JeM and LeT and their connection was made with ISI. Since Pakistan made no effort to disprove Indian contention even after it was revealed by Indian investigative agencies and Home Ministry officials that Hindu terror groups and Indian military intelligence officers were involved in the attacks, it became easier for India to further strengthen its narrative of portraying Pakistan as a terror abetting state and a nursery of terrorism. India\\u2019s narrative was boosted up by its strategic allies. The US dubbed Pakistan as the most dangerous county in the world. Pakistan\\u2019s overall defensive policy and apologetic stance emboldened its detractors to keep whipping and bleeding it without fear of tit for tat response from ISI. \\nOther than the salvos fired by the Indo-Afghan-US-Israel nexus on Pak Army and ISI, Pakistan political leadership of major political parties also view the two premier institutions with distrust. Both PPP and PML-N in line with their 2006 Charter of Democracy made efforts to enfeeble ISI and keep Army under their thumb. First attempt was made by Benazir Bhutto when she replaced Lt Gen Hamid Gul with retired Lt Gen Kallue in 1989 and next tasked Air Marshal Zulfiqar to cut ISI to size under the garb of reforms. PM Yusaf Raza Gilani tried to civilianize ISI in August 2008 by placing it under Ministry of Interior. Kerry Lugar Bill in 2009 and Memo scandal in 2011 were other attempts to curtail military\\u2019s power. Nawaz Sharif has a history of locking horns with every Army chief and has still not got out of the hangover of Gen Musharraf. Although he didn\\u2019t clash with Gen Raheel but at times civil-military relations became tense. \\nIt has now been conclusively established that RAW and NDS in unison and backed by other agencies are deeply involved in proxy war in Pakistan since 2003 and have inflicted tens of thousands of cuts on the body of Pakistan and its people. Series of conspiracies have been hatched and launched to destabilize and fragment Pakistan. RAW-NDS nexus backed by CIA is continuing to use Afghanistan as a launching pad for terror attacks in Pakistan. In order to scuttle CPEC, focus of attacks is on Baluchistan and KP. India is keeping the LoC on fire. So far it has violated 2003 ceasefire agreement 178 times and killed 19 civilians and injured 80. \\nThe anti-Pakistan foreign agencies are making full use of TTP, Jamaat Ahrar, Lashkar Jhangvi, BLA, BRA, BLF and MQM as proxies. London is a safe haven for MQM leadership and Baloch rebel leaders, while Afghanistan has provided sanctuaries to TTP runaway leaders in Kunar, Nuristan and Nangarhar. Besides these strategic assets, the detractors are also making use of NGOs, human rights activists and segment of media to make Pakistan a compliant state of India. Since HN, JeM, and LeT are not playing the game of foreign agencies, they are dubbed as terrorist groups and strategic assets of Pak Army/ISI. They want Pakistan to take strict action against them or else face isolation and sanctions. \\nIt was in the backdrop of this concern of US and India that the Dawn News published a story on October 6. The planted story was allegedly furnished by someone from within the PM House where a national security conference presided by the PM and attended by Foreign Secretary, Punjab Chief Minister, COAS, DG ISI and National Security Adviser was held. The invented story written by Cyril Almeida gave an impression of serious rift between civil and military leadership and that while the govt wanted to proceed against the defunct militant groups, the ISI didn\\u2019t. Probable motive of concocted story was to demean the Army/ISI and to reinforce Indo-US stance that Pak Army and ISI were in league with terror groups. The types of Hussain Haqqani, Ayesha Sadiqa, Farzana Bari and several other liberal journalists assembled in London two days ago to play up this story. MQM (Altaf) hosted them. To ascertain the truth, a high powered committee comprising members from three intelligence agencies will carry out inquest. \\nHaving collected tons of evidence, yet Pakistan takes the barbs and whips without a whimper and doesn\\u2019t pick up courage to strike back. The long arm of ISI remains sheathed for reasons best known to the policy makers. It implies our leaders have decided to give a free hand to our enemies to continue bleeding Pakistan without any fear of retaliation or even protest. Going by the well-established concept that \\u2018offence is the best defence\\u2019, until and unless the ISI pay back the RAW and NDS in the same coin, one sided bleeding of Pakistanis will continue. Long arm must be unsheathed. \\nThe writer is retired Brig, war veteran, defence analyst, columnist, author of 5 books, Vice Chairman Thinkers Forum Pakistan, DG Measac Research Centre, and Member Executive Council PESS. Related Posts:\",\n          \"Matt Bissonnette, a former member of Navy SEAL Team 6 who wrote an account of the raid that killed Osama bin Laden, agreed on Friday to forfeit $6. 8 million in book royalties and speaking fees and apologized for failing to clear his disclosures with the Pentagon, according to federal court documents. Mr. Bissonnette also recently forfeited $180, 000 in fees for consulting work that he did for military contractors while he was still on the SEAL team, his lawyer, Robert D. Luskin, said in an interview. If approved by a federal judge in Alexandria, Va. the royalty settlement would bring an end to more than two years of civil and criminal investigations into Mr. Bissonnette, who won several awards for valor in Iraq and Afghanistan before writing \\u201cNo Easy Day,\\u201d his   book on the Bin Laden raid, under the pen name Mark Owen. The firsthand account of the daring raid was one of several   books and movies involving former Navy SEALS that has led to criticism within a community once known for discretion that Mr. Bissonnette and the others were cashing in on their exploits. The Justice Department conducted criminal investigations into whether Mr. Bissonnette had disclosed classified information in his book or speeches and whether he had violated    laws in consulting for companies that had contracts with SEAL Team 6. In the end, the department did not bring any criminal charges, settling instead for the cash forfeitures. Mr. Bissonnette said in a statement Friday that he regretted his failure to submit \\u201cNo Easy Day\\u201d for vetting before it was published in 2012 so Pentagon officials could ensure that it did not include classified information. Mr. Bissonnette acknowledged that he was required under his security clearances to let the Pentagon review the book, and he blamed another lawyer for advising him that he did not need to do so. \\u201cI acknowledge my mistake and have paid a stiff price, both personally and financially, for that error,\\u201d he said. \\u201cI accept responsibility for failing to submit the book for review and apologize sincerely for my oversight. \\u201d Documents filed in Federal District Court in Alexandria on Friday indicated that Mr. Bissonnette must transfer nearly $6. 8 million to the government as part of the settlement. The amount includes all of the $6. 7 million in royalties he has earned on \\u201cNo Easy Day,\\u201d as well as $100, 000 in fees for six speeches he gave in early 2013 before the government approved the slides he used in such presentations. Mr. Bissonnette wrote in \\u201cNo Easy Day\\u201d that he was one of the SEALs who shot Bin Laden, and he and Robert O\\u2019Neill, another former SEAL Team 6 member who claims his shots were the fatal ones, have competed on the lecture circuit. Military officials said that Mr. O\\u2019Neill is writing a book of his own and has asked the Pentagon to vet it. While Mr. Bissonnette\\u2019s fight with the Pentagon over his book has received public attention, some details of his consulting work while he was still a SEAL Team 6 member, as well as his fee forfeiture, have not been disclosed. Mr. Luskin said that Mr. Bissonnette and the federal authorities reached a \\u201cnonprosecution agreement\\u201d in May in which Mr. Bissonnette forfeited $180, 000 in fees for advising three equipment manufacturers who were doing business with SEAL Team 6 while he was on the team. Mr. Luskin said the fees dated back as far as 2006, when Mr. Bissonnette was the research and development representative for his squadron within Team 6. Other former SEAL members have said that his job was to figure out what types of equipment they needed. Mr. Luskin said that the $180, 000 came from   a helmet maker now owned by the Gentex Corporation in Carbondale, Pa. and two   manufacturers based in Virginia Beach  \\u2014   SS Precision and London Bridge Trading. No executives at the three companies were available for comment. Mr. Luskin said that Mr. Bissonnette and other SEAL members also received consulting fees from companies that designed tactical clothing and gear for other parts of the military or for sales to outdoor enthusiasts. Mr. Bissonnette has maintained that he cleared the consulting work in advance with a Navy lawyer, and Mr. Luskin said that helped persuade prosecutors that \\u201cthere was clearly on Matt\\u2019s part no intent to breach the    laws. \\u201d Navy officials say they have restricted such moonlighting since then. Mr. Luskin also noted that a number of   officials have assisted other authors writing about the Bin Laden raid as well as the creators of the movie \\u201cZero Dark Thirty. \\u201d But, he said, only Mr. Bissonnette has paid any penalties for the disclosures.\"\n        ],\n        \"semantic_type\": \"\",\n        \"description\": \"\"\n      }\n    },\n    {\n      \"column\": \"label\",\n      \"properties\": {\n        \"dtype\": \"category\",\n        \"num_unique_values\": 4,\n        \"samples\": [\n          \"0\",\n          \" \\u0447\\u0442\\u043e\\u0431\\u044b \\u044d\\u0442\\u043e \\u0431\\u044b\\u043b\\u0430 \\u0434\\u043e\\u0440\\u043e\\u0433\\u0430 \\u0441 \\u0434\\u0432\\u0443\\u0441\\u0442\\u043e\\u0440\\u043e\\u043d\\u043d\\u0438\\u043c \\u0434\\u0432\\u0438\\u0436\\u0435\\u043d\\u0438\\u0435\\u043c.\",\n          \"1\"\n        ],\n        \"semantic_type\": \"\",\n        \"description\": \"\"\n      }\n    }\n  ]\n}"
            }
          },
          "metadata": {},
          "execution_count": 65
        }
      ]
    },
    {
      "cell_type": "code",
      "source": [
        "df.info()"
      ],
      "metadata": {
        "colab": {
          "base_uri": "https://localhost:8080/"
        },
        "id": "YMCU3Q5L4-QZ",
        "outputId": "c3fc8502-f896-4b9f-9c5e-d7186c2a2513"
      },
      "execution_count": 66,
      "outputs": [
        {
          "output_type": "stream",
          "name": "stdout",
          "text": [
            "<class 'pandas.core.frame.DataFrame'>\n",
            "RangeIndex: 20822 entries, 0 to 20821\n",
            "Data columns (total 5 columns):\n",
            " #   Column  Non-Null Count  Dtype \n",
            "---  ------  --------------  ----- \n",
            " 0   id      20822 non-null  object\n",
            " 1   title   20257 non-null  object\n",
            " 2   author  18847 non-null  object\n",
            " 3   text    20763 non-null  object\n",
            " 4   label   20800 non-null  object\n",
            "dtypes: object(5)\n",
            "memory usage: 813.5+ KB\n"
          ]
        }
      ]
    },
    {
      "cell_type": "code",
      "source": [
        "df.isnull().sum()"
      ],
      "metadata": {
        "colab": {
          "base_uri": "https://localhost:8080/",
          "height": 241
        },
        "id": "GFzpR6XV3n9o",
        "outputId": "2eb4d089-33d2-4ab2-c75d-3e40e526a8b6"
      },
      "execution_count": 67,
      "outputs": [
        {
          "output_type": "execute_result",
          "data": {
            "text/plain": [
              "id           0\n",
              "title      565\n",
              "author    1975\n",
              "text        59\n",
              "label       22\n",
              "dtype: int64"
            ],
            "text/html": [
              "<div>\n",
              "<style scoped>\n",
              "    .dataframe tbody tr th:only-of-type {\n",
              "        vertical-align: middle;\n",
              "    }\n",
              "\n",
              "    .dataframe tbody tr th {\n",
              "        vertical-align: top;\n",
              "    }\n",
              "\n",
              "    .dataframe thead th {\n",
              "        text-align: right;\n",
              "    }\n",
              "</style>\n",
              "<table border=\"1\" class=\"dataframe\">\n",
              "  <thead>\n",
              "    <tr style=\"text-align: right;\">\n",
              "      <th></th>\n",
              "      <th>0</th>\n",
              "    </tr>\n",
              "  </thead>\n",
              "  <tbody>\n",
              "    <tr>\n",
              "      <th>id</th>\n",
              "      <td>0</td>\n",
              "    </tr>\n",
              "    <tr>\n",
              "      <th>title</th>\n",
              "      <td>565</td>\n",
              "    </tr>\n",
              "    <tr>\n",
              "      <th>author</th>\n",
              "      <td>1975</td>\n",
              "    </tr>\n",
              "    <tr>\n",
              "      <th>text</th>\n",
              "      <td>59</td>\n",
              "    </tr>\n",
              "    <tr>\n",
              "      <th>label</th>\n",
              "      <td>22</td>\n",
              "    </tr>\n",
              "  </tbody>\n",
              "</table>\n",
              "</div><br><label><b>dtype:</b> int64</label>"
            ]
          },
          "metadata": {},
          "execution_count": 67
        }
      ]
    },
    {
      "cell_type": "code",
      "source": [
        "sns.heatmap(df.isnull(),yticklabels=False,cmap='viridis')\n",
        "plt.show()"
      ],
      "metadata": {
        "colab": {
          "base_uri": "https://localhost:8080/",
          "height": 435
        },
        "id": "L7ExAqxJ5LcA",
        "outputId": "14a0384b-5b18-4885-cc4d-acf43dc686f8"
      },
      "execution_count": 68,
      "outputs": [
        {
          "output_type": "display_data",
          "data": {
            "text/plain": [
              "<Figure size 640x480 with 2 Axes>"
            ],
            "image/png": "[encoded data removed]"
          },
          "metadata": {}
        }
      ]
    },
    {
      "cell_type": "markdown",
      "source": [
        "From this we can understand we have lot null values in author and title columns"
      ],
      "metadata": {
        "id": "0rhWDed-6iUq"
      }
    },
    {
      "cell_type": "code",
      "source": [
        "df.shape"
      ],
      "metadata": {
        "colab": {
          "base_uri": "https://localhost:8080/"
        },
        "id": "SB8oFv2F6qgs",
        "outputId": "a8714287-1081-402d-c1e6-d31f192c6d59"
      },
      "execution_count": 69,
      "outputs": [
        {
          "output_type": "execute_result",
          "data": {
            "text/plain": [
              "(20822, 5)"
            ]
          },
          "metadata": {},
          "execution_count": 69
        }
      ]
    },
    {
      "cell_type": "code",
      "source": [
        "df=df.dropna()"
      ],
      "metadata": {
        "id": "kuWjs1gb6yq9"
      },
      "execution_count": 70,
      "outputs": []
    },
    {
      "cell_type": "code",
      "source": [
        "df['label'].unique()"
      ],
      "metadata": {
        "colab": {
          "base_uri": "https://localhost:8080/"
        },
        "id": "m51N7GsW22xV",
        "outputId": "38ff5dc7-85f6-4c8c-ee44-63b89453656a"
      },
      "execution_count": 71,
      "outputs": [
        {
          "output_type": "execute_result",
          "data": {
            "text/plain": [
              "array(['1', '0', ' как люди воспринимают своё положение.',\n",
              "       ' чтобы это была дорога с двусторонним движением.'], dtype=object)"
            ]
          },
          "metadata": {},
          "execution_count": 71
        }
      ]
    },
    {
      "cell_type": "markdown",
      "source": [
        "Removing unwanted text from label"
      ],
      "metadata": {
        "id": "dA6VhtLN4uw5"
      }
    },
    {
      "cell_type": "code",
      "source": [
        "df['label'] = pd.to_numeric(df['label'], errors='coerce')\n",
        "\n",
        "# Drop rows where 'label' is NaN or not in [0, 1]\n",
        "df = df[df['label'].isin([0, 1])]\n",
        "\n",
        "# Convert 'label' back to int if needed\n",
        "df['label'] = df['label'].astype(int)"
      ],
      "metadata": {
        "colab": {
          "base_uri": "https://localhost:8080/"
        },
        "id": "UClNU-RB4X0M",
        "outputId": "baa28763-ec93-4433-9b29-1cd804f98384"
      },
      "execution_count": 72,
      "outputs": [
        {
          "output_type": "stream",
          "name": "stderr",
          "text": [
            "<ipython-input-72-1d5b3f27b481>:1: SettingWithCopyWarning: \n",
            "A value is trying to be set on a copy of a slice from a DataFrame.\n",
            "Try using .loc[row_indexer,col_indexer] = value instead\n",
            "\n",
            "See the caveats in the documentation: https://pandas.pydata.org/pandas-docs/stable/user_guide/indexing.html#returning-a-view-versus-a-copy\n",
            "  df['label'] = pd.to_numeric(df['label'], errors='coerce')\n"
          ]
        }
      ]
    },
    {
      "cell_type": "code",
      "source": [
        "#after removing null data\n",
        "df.shape"
      ],
      "metadata": {
        "colab": {
          "base_uri": "https://localhost:8080/"
        },
        "id": "2MRIXhMB65Qf",
        "outputId": "012e5cc0-9fa5-4f2f-8a49-d92ef68a2ff8"
      },
      "execution_count": 73,
      "outputs": [
        {
          "output_type": "execute_result",
          "data": {
            "text/plain": [
              "(18283, 5)"
            ]
          },
          "metadata": {},
          "execution_count": 73
        }
      ]
    },
    {
      "cell_type": "code",
      "source": [
        "df['label'].unique()"
      ],
      "metadata": {
        "colab": {
          "base_uri": "https://localhost:8080/"
        },
        "id": "VwUkcdq84zIH",
        "outputId": "9efe3b9f-d764-43d7-ffde-0078224857c5"
      },
      "execution_count": 74,
      "outputs": [
        {
          "output_type": "execute_result",
          "data": {
            "text/plain": [
              "array([1, 0])"
            ]
          },
          "metadata": {},
          "execution_count": 74
        }
      ]
    },
    {
      "cell_type": "code",
      "source": [
        "#now we can see there is no null data\n",
        "sns.heatmap(df.isnull(),yticklabels=False,cmap='viridis')\n",
        "plt.show()"
      ],
      "metadata": {
        "colab": {
          "base_uri": "https://localhost:8080/",
          "height": 435
        },
        "id": "zug7-jj76-ns",
        "outputId": "533ca16c-aefd-4885-b82e-7d21164ece3e"
      },
      "execution_count": 75,
      "outputs": [
        {
          "output_type": "display_data",
          "data": {
            "text/plain": [
              "<Figure size 640x480 with 2 Axes>"
            ],
            "image/png": "[encoded data removed]"
          },
          "metadata": {}
        }
      ]
    },
    {
      "cell_type": "code",
      "source": [
        "import tensorflow as tf\n",
        "print(tf.__version__)"
      ],
      "metadata": {
        "colab": {
          "base_uri": "https://localhost:8080/"
        },
        "id": "WB-KRSM6d7B8",
        "outputId": "3ce01687-ef72-40ab-d9d6-a2419fd50e3e"
      },
      "execution_count": 76,
      "outputs": [
        {
          "output_type": "stream",
          "name": "stdout",
          "text": [
            "2.17.0\n"
          ]
        }
      ]
    },
    {
      "cell_type": "code",
      "source": [
        "X=df.drop(columns='label',axis=1)"
      ],
      "metadata": {
        "id": "uRBlRCvx8NOa"
      },
      "execution_count": 77,
      "outputs": []
    },
    {
      "cell_type": "code",
      "source": [
        "Y=pd.DataFrame(df['label'])"
      ],
      "metadata": {
        "id": "JOzWU8qQ8jgl"
      },
      "execution_count": 78,
      "outputs": []
    },
    {
      "cell_type": "code",
      "source": [
        "t=df['label'].value_counts()\n",
        "print(t.index)\n",
        "print(t.values)"
      ],
      "metadata": {
        "colab": {
          "base_uri": "https://localhost:8080/"
        },
        "id": "UwK0V-07-R2B",
        "outputId": "7a29fe3f-d8f5-4c82-995b-fe0833e04de2"
      },
      "execution_count": 79,
      "outputs": [
        {
          "output_type": "stream",
          "name": "stdout",
          "text": [
            "Index([0, 1], dtype='int64', name='label')\n",
            "[10361  7922]\n"
          ]
        }
      ]
    },
    {
      "cell_type": "code",
      "source": [
        "df['label'].value_counts()"
      ],
      "metadata": {
        "colab": {
          "base_uri": "https://localhost:8080/",
          "height": 178
        },
        "id": "XeIwZh83Gg6b",
        "outputId": "fdb1e9c4-b5c8-4541-c180-b8e31b1ceb91"
      },
      "execution_count": 80,
      "outputs": [
        {
          "output_type": "execute_result",
          "data": {
            "text/plain": [
              "label\n",
              "0    10361\n",
              "1     7922\n",
              "Name: count, dtype: int64"
            ],
            "text/html": [
              "<div>\n",
              "<style scoped>\n",
              "    .dataframe tbody tr th:only-of-type {\n",
              "        vertical-align: middle;\n",
              "    }\n",
              "\n",
              "    .dataframe tbody tr th {\n",
              "        vertical-align: top;\n",
              "    }\n",
              "\n",
              "    .dataframe thead th {\n",
              "        text-align: right;\n",
              "    }\n",
              "</style>\n",
              "<table border=\"1\" class=\"dataframe\">\n",
              "  <thead>\n",
              "    <tr style=\"text-align: right;\">\n",
              "      <th></th>\n",
              "      <th>count</th>\n",
              "    </tr>\n",
              "    <tr>\n",
              "      <th>label</th>\n",
              "      <th></th>\n",
              "    </tr>\n",
              "  </thead>\n",
              "  <tbody>\n",
              "    <tr>\n",
              "      <th>0</th>\n",
              "      <td>10361</td>\n",
              "    </tr>\n",
              "    <tr>\n",
              "      <th>1</th>\n",
              "      <td>7922</td>\n",
              "    </tr>\n",
              "  </tbody>\n",
              "</table>\n",
              "</div><br><label><b>dtype:</b> int64</label>"
            ]
          },
          "metadata": {},
          "execution_count": 80
        }
      ]
    },
    {
      "cell_type": "code",
      "source": [
        "sns.barplot(hue=t.index,y=t.values,palette='cividis')\n",
        "plt.xlabel('False vs True')\n",
        "plt.ylabel('Count')\n",
        "plt.legend(['false','true'])\n",
        "plt.show()"
      ],
      "metadata": {
        "colab": {
          "base_uri": "https://localhost:8080/",
          "height": 435
        },
        "id": "rgRBtqhw86D3",
        "outputId": "95794f5a-19a9-4b0b-d928-27a7f7f910fb"
      },
      "execution_count": 81,
      "outputs": [
        {
          "output_type": "display_data",
          "data": {
            "text/plain": [
              "<Figure size 640x480 with 1 Axes>"
            ],
            "image/png": "[encoded data removed]"
          },
          "metadata": {}
        }
      ]
    },
    {
      "cell_type": "markdown",
      "source": [
        "**importing neural networks and LSTM**"
      ],
      "metadata": {
        "id": "1Gry7AdlJncV"
      }
    },
    {
      "cell_type": "code",
      "source": [
        "#importing neural networks and LSTM\n",
        "\n",
        "from tensorflow.keras.layers import Embedding,InputLayer,LSTM,Dense\n",
        "from tensorflow.keras.preprocessing.sequence import pad_sequences\n",
        "from tensorflow.keras.models import Sequential\n",
        "from tensorflow.keras.preprocessing.text import one_hot"
      ],
      "metadata": {
        "id": "Vhp7vrfgEvHN"
      },
      "execution_count": 82,
      "outputs": []
    },
    {
      "cell_type": "code",
      "source": [
        "messages=X.copy()"
      ],
      "metadata": {
        "id": "SMJR7N37IMBT"
      },
      "execution_count": 83,
      "outputs": []
    },
    {
      "cell_type": "code",
      "source": [
        "messages['title'][0]"
      ],
      "metadata": {
        "colab": {
          "base_uri": "https://localhost:8080/",
          "height": 36
        },
        "id": "dM1pQeM5IePg",
        "outputId": "bc0c974c-2db2-4451-d449-c69275b29354"
      },
      "execution_count": 84,
      "outputs": [
        {
          "output_type": "execute_result",
          "data": {
            "text/plain": [
              "'House Dem Aide: We Didn’t Even See Comey’s Letter Until Jason Chaffetz Tweeted It'"
            ],
            "application/vnd.google.colaboratory.intrinsic+json": {
              "type": "string"
            }
          },
          "metadata": {},
          "execution_count": 84
        }
      ]
    },
    {
      "cell_type": "markdown",
      "source": [
        "**importing nltk packages**"
      ],
      "metadata": {
        "id": "G8oClbxfJlXU"
      }
    },
    {
      "cell_type": "code",
      "source": [
        "import nltk\n",
        "import re\n",
        "from nltk.corpus import stopwords"
      ],
      "metadata": {
        "id": "1LqXhxlmJirH"
      },
      "execution_count": 85,
      "outputs": []
    },
    {
      "cell_type": "code",
      "source": [
        "nltk.download('stopwords')"
      ],
      "metadata": {
        "colab": {
          "base_uri": "https://localhost:8080/"
        },
        "id": "10JN8WgsJ-v3",
        "outputId": "c2197295-9f65-4218-9327-f489a756689b"
      },
      "execution_count": 86,
      "outputs": [
        {
          "output_type": "stream",
          "name": "stderr",
          "text": [
            "[nltk_data] Downloading package stopwords to /root/nltk_data...\n",
            "[nltk_data]   Package stopwords is already up-to-date!\n"
          ]
        },
        {
          "output_type": "execute_result",
          "data": {
            "text/plain": [
              "True"
            ]
          },
          "metadata": {},
          "execution_count": 86
        }
      ]
    },
    {
      "cell_type": "markdown",
      "source": [
        "**Data Preprocessing**"
      ],
      "metadata": {
        "id": "0D4a46PsLekQ"
      }
    },
    {
      "cell_type": "code",
      "source": [
        "from nltk.stem.porter import PorterStemmer ##stemming purpose\n",
        "ps=PorterStemmer()\n",
        "\n",
        "stop_words=set(stopwords.words('english'))\n",
        "corpus=[]\n",
        "\n",
        "for i,row in messages.iterrows():  ## using this instead range helps in proper row iteration and more robust\n",
        "  linewords=re.sub('[^a-zA-Z0-9]',' ',messages['title'][i])\n",
        "  linewords=linewords.lower()\n",
        "  linewords=linewords.split()\n",
        "\n",
        "  linewords=[ps.stem(word) for word in linewords if not word in stop_words]\n",
        "  linewords=' '.join(linewords)\n",
        "  corpus.append(linewords)"
      ],
      "metadata": {
        "id": "wy0C8hoXKbYc"
      },
      "execution_count": 87,
      "outputs": []
    },
    {
      "cell_type": "markdown",
      "source": [
        "Got good data so we can apply **one hot encoding**"
      ],
      "metadata": {
        "id": "vrEvpkbJUUlL"
      }
    },
    {
      "cell_type": "code",
      "source": [
        "#vocabulary size (unique words)\n",
        "voc_size=7000"
      ],
      "metadata": {
        "id": "YQ1eUyoGUFIX"
      },
      "execution_count": 88,
      "outputs": []
    },
    {
      "cell_type": "code",
      "source": [
        "onehotwords=[one_hot(word,voc_size) for word in corpus]\n",
        "onehotwords[0]"
      ],
      "metadata": {
        "colab": {
          "base_uri": "https://localhost:8080/"
        },
        "id": "AKr4ux9HUgGj",
        "outputId": "0d9d7ca4-22ba-4df9-91b1-9fbfe9511a73"
      },
      "execution_count": 89,
      "outputs": [
        {
          "output_type": "execute_result",
          "data": {
            "text/plain": [
              "[2592, 2982, 546, 5699, 1779, 5072, 6729, 1091, 6034, 1377]"
            ]
          },
          "metadata": {},
          "execution_count": 89
        }
      ]
    },
    {
      "cell_type": "markdown",
      "source": [
        "Now as it is diff in size we use **padding** using encoding"
      ],
      "metadata": {
        "id": "9EiG9bvlVF5z"
      }
    },
    {
      "cell_type": "code",
      "source": [
        "step_words=20\n",
        "padding_words=pad_sequences(onehotwords,maxlen=step_words,padding='pre')"
      ],
      "metadata": {
        "id": "_6RcFPX4VKES"
      },
      "execution_count": 90,
      "outputs": []
    },
    {
      "cell_type": "code",
      "source": [
        "padding_words[0]"
      ],
      "metadata": {
        "colab": {
          "base_uri": "https://localhost:8080/"
        },
        "id": "G4wy16Q_YM0u",
        "outputId": "072273a4-de02-4e45-d201-c7c99311eef4"
      },
      "execution_count": 91,
      "outputs": [
        {
          "output_type": "execute_result",
          "data": {
            "text/plain": [
              "array([   0,    0,    0,    0,    0,    0,    0,    0,    0,    0, 2592,\n",
              "       2982,  546, 5699, 1779, 5072, 6729, 1091, 6034, 1377], dtype=int32)"
            ]
          },
          "metadata": {},
          "execution_count": 91
        }
      ]
    },
    {
      "cell_type": "markdown",
      "source": [
        "Creating model with **Embedding** and **LSTM**"
      ],
      "metadata": {
        "id": "RLMkbL__ZIau"
      }
    },
    {
      "cell_type": "code",
      "source": [
        "## output of padding is given into model as input here it is in 20 vectors\n",
        "vector_features=40 ##features representation dimensions like google 300 dimension\n",
        "model=Sequential()\n",
        "model.add(InputLayer(input_shape=(step_words,)))\n",
        "model.add(Embedding(input_dim=voc_size,output_dim=vector_features))\n",
        "model.add(LSTM(100))\n",
        "model.add(Dense(1,activation='sigmoid'))\n",
        "model.compile(loss='binary_crossentropy',optimizer='adam',metrics=['accuracy'])\n",
        "print(model.summary())"
      ],
      "metadata": {
        "colab": {
          "base_uri": "https://localhost:8080/",
          "height": 297
        },
        "id": "QQKwQ-2ZZHM1",
        "outputId": "30a6eb03-1a5d-460e-9c30-ab3ab2acb28f"
      },
      "execution_count": 92,
      "outputs": [
        {
          "output_type": "stream",
          "name": "stderr",
          "text": [
            "/usr/local/lib/python3.10/dist-packages/keras/src/layers/core/input_layer.py:26: UserWarning: Argument `input_shape` is deprecated. Use `shape` instead.\n",
            "  warnings.warn(\n"
          ]
        },
        {
          "output_type": "display_data",
          "data": {
            "text/plain": [
              "\u001b[1mModel: \"sequential_1\"\u001b[0m\n"
            ],
            "text/html": [
              "<pre style=\"white-space:pre;overflow-x:auto;line-height:normal;font-family:Menlo,'DejaVu Sans Mono',consolas,'Courier New',monospace\"><span style=\"font-weight: bold\">Model: \"sequential_1\"</span>\n",
              "</pre>\n"
            ]
          },
          "metadata": {}
        },
        {
          "output_type": "display_data",
          "data": {
            "text/plain": [
              "┏━━━━━━━━━━━━━━━━━━━━━━━━━━━━━━━━━━━━━━┳━━━━━━━━━━━━━━━━━━━━━━━━━━━━━┳━━━━━━━━━━━━━━━━━┓\n",
              "┃\u001b[1m \u001b[0m\u001b[1mLayer (type)                        \u001b[0m\u001b[1m \u001b[0m┃\u001b[1m \u001b[0m\u001b[1mOutput Shape               \u001b[0m\u001b[1m \u001b[0m┃\u001b[1m \u001b[0m\u001b[1m        Param #\u001b[0m\u001b[1m \u001b[0m┃\n",
              "┡━━━━━━━━━━━━━━━━━━━━━━━━━━━━━━━━━━━━━━╇━━━━━━━━━━━━━━━━━━━━━━━━━━━━━╇━━━━━━━━━━━━━━━━━┩\n",
              "│ embedding_1 (\u001b[38;5;33mEmbedding\u001b[0m)              │ (\u001b[38;5;45mNone\u001b[0m, \u001b[38;5;34m20\u001b[0m, \u001b[38;5;34m40\u001b[0m)              │         \u001b[38;5;34m280,000\u001b[0m │\n",
              "├──────────────────────────────────────┼─────────────────────────────┼─────────────────┤\n",
              "│ lstm_1 (\u001b[38;5;33mLSTM\u001b[0m)                        │ (\u001b[38;5;45mNone\u001b[0m, \u001b[38;5;34m100\u001b[0m)                 │          \u001b[38;5;34m56,400\u001b[0m │\n",
              "├──────────────────────────────────────┼─────────────────────────────┼─────────────────┤\n",
              "│ dense_1 (\u001b[38;5;33mDense\u001b[0m)                      │ (\u001b[38;5;45mNone\u001b[0m, \u001b[38;5;34m1\u001b[0m)                   │             \u001b[38;5;34m101\u001b[0m │\n",
              "└──────────────────────────────────────┴─────────────────────────────┴─────────────────┘\n"
            ],
            "text/html": [
              "<pre style=\"white-space:pre;overflow-x:auto;line-height:normal;font-family:Menlo,'DejaVu Sans Mono',consolas,'Courier New',monospace\">┏━━━━━━━━━━━━━━━━━━━━━━━━━━━━━━━━━━━━━━┳━━━━━━━━━━━━━━━━━━━━━━━━━━━━━┳━━━━━━━━━━━━━━━━━┓\n",
              "┃<span style=\"font-weight: bold\"> Layer (type)                         </span>┃<span style=\"font-weight: bold\"> Output Shape                </span>┃<span style=\"font-weight: bold\">         Param # </span>┃\n",
              "┡━━━━━━━━━━━━━━━━━━━━━━━━━━━━━━━━━━━━━━╇━━━━━━━━━━━━━━━━━━━━━━━━━━━━━╇━━━━━━━━━━━━━━━━━┩\n",
              "│ embedding_1 (<span style=\"color: #0087ff; text-decoration-color: #0087ff\">Embedding</span>)              │ (<span style=\"color: #00d7ff; text-decoration-color: #00d7ff\">None</span>, <span style=\"color: #00af00; text-decoration-color: #00af00\">20</span>, <span style=\"color: #00af00; text-decoration-color: #00af00\">40</span>)              │         <span style=\"color: #00af00; text-decoration-color: #00af00\">280,000</span> │\n",
              "├──────────────────────────────────────┼─────────────────────────────┼─────────────────┤\n",
              "│ lstm_1 (<span style=\"color: #0087ff; text-decoration-color: #0087ff\">LSTM</span>)                        │ (<span style=\"color: #00d7ff; text-decoration-color: #00d7ff\">None</span>, <span style=\"color: #00af00; text-decoration-color: #00af00\">100</span>)                 │          <span style=\"color: #00af00; text-decoration-color: #00af00\">56,400</span> │\n",
              "├──────────────────────────────────────┼─────────────────────────────┼─────────────────┤\n",
              "│ dense_1 (<span style=\"color: #0087ff; text-decoration-color: #0087ff\">Dense</span>)                      │ (<span style=\"color: #00d7ff; text-decoration-color: #00d7ff\">None</span>, <span style=\"color: #00af00; text-decoration-color: #00af00\">1</span>)                   │             <span style=\"color: #00af00; text-decoration-color: #00af00\">101</span> │\n",
              "└──────────────────────────────────────┴─────────────────────────────┴─────────────────┘\n",
              "</pre>\n"
            ]
          },
          "metadata": {}
        },
        {
          "output_type": "display_data",
          "data": {
            "text/plain": [
              "\u001b[1m Total params: \u001b[0m\u001b[38;5;34m336,501\u001b[0m (1.28 MB)\n"
            ],
            "text/html": [
              "<pre style=\"white-space:pre;overflow-x:auto;line-height:normal;font-family:Menlo,'DejaVu Sans Mono',consolas,'Courier New',monospace\"><span style=\"font-weight: bold\"> Total params: </span><span style=\"color: #00af00; text-decoration-color: #00af00\">336,501</span> (1.28 MB)\n",
              "</pre>\n"
            ]
          },
          "metadata": {}
        },
        {
          "output_type": "display_data",
          "data": {
            "text/plain": [
              "\u001b[1m Trainable params: \u001b[0m\u001b[38;5;34m336,501\u001b[0m (1.28 MB)\n"
            ],
            "text/html": [
              "<pre style=\"white-space:pre;overflow-x:auto;line-height:normal;font-family:Menlo,'DejaVu Sans Mono',consolas,'Courier New',monospace\"><span style=\"font-weight: bold\"> Trainable params: </span><span style=\"color: #00af00; text-decoration-color: #00af00\">336,501</span> (1.28 MB)\n",
              "</pre>\n"
            ]
          },
          "metadata": {}
        },
        {
          "output_type": "display_data",
          "data": {
            "text/plain": [
              "\u001b[1m Non-trainable params: \u001b[0m\u001b[38;5;34m0\u001b[0m (0.00 B)\n"
            ],
            "text/html": [
              "<pre style=\"white-space:pre;overflow-x:auto;line-height:normal;font-family:Menlo,'DejaVu Sans Mono',consolas,'Courier New',monospace\"><span style=\"font-weight: bold\"> Non-trainable params: </span><span style=\"color: #00af00; text-decoration-color: #00af00\">0</span> (0.00 B)\n",
              "</pre>\n"
            ]
          },
          "metadata": {}
        },
        {
          "output_type": "stream",
          "name": "stdout",
          "text": [
            "None\n"
          ]
        }
      ]
    },
    {
      "cell_type": "markdown",
      "source": [
        "converting list to arrays"
      ],
      "metadata": {
        "id": "gNF4-zBrgolq"
      }
    },
    {
      "cell_type": "code",
      "source": [
        "X_final=np.array(padding_words)\n",
        "y_final=np.array(Y)"
      ],
      "metadata": {
        "id": "hrKgUZV4gw_V"
      },
      "execution_count": 93,
      "outputs": []
    },
    {
      "cell_type": "code",
      "source": [
        "X_final.shape,y_final.shape"
      ],
      "metadata": {
        "colab": {
          "base_uri": "https://localhost:8080/"
        },
        "id": "IhJpqhtyhMhg",
        "outputId": "b2ce7aed-56fe-4dc2-8128-7a1585d77ee6"
      },
      "execution_count": 94,
      "outputs": [
        {
          "output_type": "execute_result",
          "data": {
            "text/plain": [
              "((18283, 20), (18283, 1))"
            ]
          },
          "metadata": {},
          "execution_count": 94
        }
      ]
    },
    {
      "cell_type": "code",
      "source": [
        "y_final.dtype"
      ],
      "metadata": {
        "colab": {
          "base_uri": "https://localhost:8080/"
        },
        "id": "a4BbZGfrlXZ3",
        "outputId": "06c30e39-6a8e-4b79-c12b-6edbbeff459e"
      },
      "execution_count": 95,
      "outputs": [
        {
          "output_type": "execute_result",
          "data": {
            "text/plain": [
              "dtype('int64')"
            ]
          },
          "metadata": {},
          "execution_count": 95
        }
      ]
    },
    {
      "cell_type": "markdown",
      "source": [
        "**Train test split**"
      ],
      "metadata": {
        "id": "TtfNQXcjhrnC"
      }
    },
    {
      "cell_type": "code",
      "source": [
        "from sklearn.model_selection import train_test_split\n",
        "X_train,X_test,y_train,y_test=train_test_split(X_final,y_final,test_size=0.3,random_state=42)"
      ],
      "metadata": {
        "id": "h6cMyAqghyAO"
      },
      "execution_count": 96,
      "outputs": []
    },
    {
      "cell_type": "markdown",
      "source": [
        "**Model Training**"
      ],
      "metadata": {
        "id": "F-9OaruRiMTK"
      }
    },
    {
      "cell_type": "code",
      "source": [
        "model.fit(X_train,y_train,validation_data=(X_test,y_test),epochs=8,batch_size=64)"
      ],
      "metadata": {
        "colab": {
          "base_uri": "https://localhost:8080/"
        },
        "id": "ONLsX1Q5iPL8",
        "outputId": "78c19a6c-2fd2-47b8-9e63-d2c6f22deb14"
      },
      "execution_count": 98,
      "outputs": [
        {
          "output_type": "stream",
          "name": "stdout",
          "text": [
            "Epoch 1/8\n",
            "\u001b[1m200/200\u001b[0m \u001b[32m━━━━━━━━━━━━━━━━━━━━\u001b[0m\u001b[37m\u001b[0m \u001b[1m14s\u001b[0m 52ms/step - accuracy: 0.7696 - loss: 0.4252 - val_accuracy: 0.9147 - val_loss: 0.1935\n",
            "Epoch 2/8\n",
            "\u001b[1m200/200\u001b[0m \u001b[32m━━━━━━━━━━━━━━━━━━━━\u001b[0m\u001b[37m\u001b[0m \u001b[1m10s\u001b[0m 52ms/step - accuracy: 0.9505 - loss: 0.1311 - val_accuracy: 0.9227 - val_loss: 0.1875\n",
            "Epoch 3/8\n",
            "\u001b[1m200/200\u001b[0m \u001b[32m━━━━━━━━━━━━━━━━━━━━\u001b[0m\u001b[37m\u001b[0m \u001b[1m9s\u001b[0m 43ms/step - accuracy: 0.9726 - loss: 0.0769 - val_accuracy: 0.9198 - val_loss: 0.2008\n",
            "Epoch 4/8\n",
            "\u001b[1m200/200\u001b[0m \u001b[32m━━━━━━━━━━━━━━━━━━━━\u001b[0m\u001b[37m\u001b[0m \u001b[1m9s\u001b[0m 38ms/step - accuracy: 0.9830 - loss: 0.0556 - val_accuracy: 0.9170 - val_loss: 0.2707\n",
            "Epoch 5/8\n",
            "\u001b[1m200/200\u001b[0m \u001b[32m━━━━━━━━━━━━━━━━━━━━\u001b[0m\u001b[37m\u001b[0m \u001b[1m10s\u001b[0m 52ms/step - accuracy: 0.9883 - loss: 0.0369 - val_accuracy: 0.9160 - val_loss: 0.2756\n",
            "Epoch 6/8\n",
            "\u001b[1m200/200\u001b[0m \u001b[32m━━━━━━━━━━━━━━━━━━━━\u001b[0m\u001b[37m\u001b[0m \u001b[1m17s\u001b[0m 36ms/step - accuracy: 0.9912 - loss: 0.0270 - val_accuracy: 0.9134 - val_loss: 0.3838\n",
            "Epoch 7/8\n",
            "\u001b[1m200/200\u001b[0m \u001b[32m━━━━━━━━━━━━━━━━━━━━\u001b[0m\u001b[37m\u001b[0m \u001b[1m16s\u001b[0m 64ms/step - accuracy: 0.9964 - loss: 0.0150 - val_accuracy: 0.9118 - val_loss: 0.4387\n",
            "Epoch 8/8\n",
            "\u001b[1m200/200\u001b[0m \u001b[32m━━━━━━━━━━━━━━━━━━━━\u001b[0m\u001b[37m\u001b[0m \u001b[1m10s\u001b[0m 52ms/step - accuracy: 0.9974 - loss: 0.0090 - val_accuracy: 0.9160 - val_loss: 0.4684\n"
          ]
        },
        {
          "output_type": "execute_result",
          "data": {
            "text/plain": [
              "<keras.src.callbacks.history.History at 0x7bdc03dd4a30>"
            ]
          },
          "metadata": {},
          "execution_count": 98
        }
      ]
    },
    {
      "cell_type": "markdown",
      "source": [
        "**Performance Metrics and Accuracy**"
      ],
      "metadata": {
        "id": "2cO9-p1s5vrn"
      }
    },
    {
      "cell_type": "code",
      "source": [
        "y_pred=model.predict(X_test)"
      ],
      "metadata": {
        "colab": {
          "base_uri": "https://localhost:8080/"
        },
        "id": "mkvRPtk_5uyv",
        "outputId": "a7e56963-dd7a-4d61-9e1a-5847100f94a7"
      },
      "execution_count": 99,
      "outputs": [
        {
          "output_type": "stream",
          "name": "stdout",
          "text": [
            "\u001b[1m172/172\u001b[0m \u001b[32m━━━━━━━━━━━━━━━━━━━━\u001b[0m\u001b[37m\u001b[0m \u001b[1m2s\u001b[0m 7ms/step\n"
          ]
        }
      ]
    },
    {
      "cell_type": "code",
      "source": [
        "y_pred=np.where(y_pred >0.5,1,0)"
      ],
      "metadata": {
        "id": "cV2oes3f59Pn"
      },
      "execution_count": 100,
      "outputs": []
    },
    {
      "cell_type": "code",
      "source": [
        "from sklearn.metrics import accuracy_score\n",
        "accuracy_score(y_test,y_pred)"
      ],
      "metadata": {
        "colab": {
          "base_uri": "https://localhost:8080/"
        },
        "id": "N1QvAwDr6KPE",
        "outputId": "c55a6a92-d162-43cd-9c42-db0bd4ce2fd1"
      },
      "execution_count": 101,
      "outputs": [
        {
          "output_type": "execute_result",
          "data": {
            "text/plain": [
              "0.9159525979945305"
            ]
          },
          "metadata": {},
          "execution_count": 101
        }
      ]
    },
    {
      "cell_type": "code",
      "source": [
        "from sklearn.metrics import classification_report\n",
        "print(classification_report(y_test,y_pred))"
      ],
      "metadata": {
        "colab": {
          "base_uri": "https://localhost:8080/"
        },
        "id": "_Vdisc_s6YpF",
        "outputId": "17572abd-f60b-4cdc-8443-fa991e989716"
      },
      "execution_count": 102,
      "outputs": [
        {
          "output_type": "stream",
          "name": "stdout",
          "text": [
            "              precision    recall  f1-score   support\n",
            "\n",
            "           0       0.95      0.90      0.92      3130\n",
            "           1       0.88      0.94      0.91      2355\n",
            "\n",
            "    accuracy                           0.92      5485\n",
            "   macro avg       0.91      0.92      0.91      5485\n",
            "weighted avg       0.92      0.92      0.92      5485\n",
            "\n"
          ]
        }
      ]
    }
  ]
}